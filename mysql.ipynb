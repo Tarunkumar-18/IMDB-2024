{
 "cells": [
  {
   "cell_type": "code",
   "execution_count": 1,
   "metadata": {},
   "outputs": [
    {
     "name": "stdout",
     "output_type": "stream",
     "text": [
      "Requirement already satisfied: mysql-connector-python in c:\\users\\staru\\appdata\\local\\programs\\python\\python312\\lib\\site-packages (9.2.0)\n"
     ]
    },
    {
     "name": "stderr",
     "output_type": "stream",
     "text": [
      "\n",
      "[notice] A new release of pip is available: 24.3.1 -> 25.0.1\n",
      "[notice] To update, run: python.exe -m pip install --upgrade pip\n"
     ]
    }
   ],
   "source": [
    "!pip install mysql-connector-python"
   ]
  },
  {
   "cell_type": "code",
   "execution_count": 20,
   "metadata": {},
   "outputs": [
    {
     "name": "stdout",
     "output_type": "stream",
     "text": [
      "<mysql.connector.connection_cext.CMySQLConnection object at 0x0000024FD3F64CB0>\n"
     ]
    }
   ],
   "source": [
    "import mysql.connector\n",
    "\n",
    "mydb = mysql.connector.connect(\n",
    " host=\"localhost\",\n",
    " user=\"root\",\n",
    " password=\"1010\",\n",
    " database=\"imdb_2024\"\n",
    ")\n",
    "\n",
    "print(mydb)\n",
    "mycursor = mydb.cursor(buffered=True)\n"
   ]
  },
  {
   "cell_type": "code",
   "execution_count": 21,
   "metadata": {},
   "outputs": [
    {
     "name": "stdout",
     "output_type": "stream",
     "text": [
      "Data has been loaded into MySQL successfully!\n"
     ]
    }
   ],
   "source": [
    "import pandas as pd\n",
    "\n",
    "csv_file = 'modified_file.csv'  \n",
    "df = pd.read_csv(csv_file)\n",
    "\n",
    "\n",
    "create_table = \"\"\"\n",
    "CREATE TABLE IF NOT EXISTS movie_details (\n",
    "    Movie_name VARCHAR(500),\n",
    "    Genre VARCHAR(20),\n",
    "    Duration VARCHAR(10),\n",
    "    Rating INT,\n",
    "    Voting VARCHAR(10)\n",
    ");\n",
    "\"\"\"\n",
    "\n",
    "mycursor.execute(create_table)\n",
    "\n",
    "\n",
    "sql = f\"INSERT INTO movie_details (Movie_name, Genre, Duration, Rating, Voting) VALUES (%s, %s, %s, %s, %s)\"\n",
    "\n",
    "\n",
    "values_list = [(row['Title'], row['Genre'], row['Duration'], row['Rating'], row['Votes']) for index, row in df.iterrows()]\n",
    "\n",
    "\n",
    "mycursor.executemany(sql, values_list)\n",
    "\n",
    "\n",
    "mydb.commit()\n",
    "mycursor.close()\n",
    "mydb.close()\n",
    "\n",
    "print(\"Data has been loaded into MySQL successfully!\")\n"
   ]
  }
 ],
 "metadata": {
  "kernelspec": {
   "display_name": "Python 3",
   "language": "python",
   "name": "python3"
  },
  "language_info": {
   "codemirror_mode": {
    "name": "ipython",
    "version": 3
   },
   "file_extension": ".py",
   "mimetype": "text/x-python",
   "name": "python",
   "nbconvert_exporter": "python",
   "pygments_lexer": "ipython3",
   "version": "3.12.8"
  }
 },
 "nbformat": 4,
 "nbformat_minor": 2
}
